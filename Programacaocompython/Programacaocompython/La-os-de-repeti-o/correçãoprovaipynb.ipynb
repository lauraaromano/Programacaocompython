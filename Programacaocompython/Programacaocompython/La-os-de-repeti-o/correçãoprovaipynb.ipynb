{
  "nbformat": 4,
  "nbformat_minor": 0,
  "metadata": {
    "colab": {
      "provenance": [],
      "authorship_tag": "ABX9TyMADPUceFW+FfiWnprcSWdH",
      "include_colab_link": true
    },
    "kernelspec": {
      "name": "python3",
      "display_name": "Python 3"
    },
    "language_info": {
      "name": "python"
    }
  },
  "cells": [
    {
      "cell_type": "markdown",
      "metadata": {
        "id": "view-in-github",
        "colab_type": "text"
      },
      "source": [
        "<a href=\"https://colab.research.google.com/github/lauraaromano/La-os-de-repeti-o/blob/main/corre%C3%A7%C3%A3oprovaipynb.ipynb\" target=\"_parent\"><img src=\"https://colab.research.google.com/assets/colab-badge.svg\" alt=\"Open In Colab\"/></a>"
      ]
    },
    {
      "cell_type": "code",
      "source": [
        "import random\n",
        "secreto= random.randint(1,100)\n",
        "print(secreto)\n",
        "x=0\n",
        "\n",
        "opt= int(input(\"Tente adivinhar o número secreto de 1 a 100: \"))\n",
        "\n",
        "while opt!=secreto:\n",
        "  opt= int(input(\"Tente adivinhar o número secreto de 1 a 100: \"))\n",
        "\n",
        "  if opt <=0 or opt >=100:\n",
        "    print(\"Desclassificado\")\n",
        "    break\n",
        "\n",
        "\n",
        "    if opt <=29:\n",
        "      print(\"Tente digitar um número maior\")\n",
        "      x=x+1\n",
        "    elif opt >=70:\n",
        "        print(\"Tente digitar um número menor\")\n",
        "        x=x+1\n",
        "    elif opt>29 and opt <=69:\n",
        "        print(\"Quase acertou , tente mais uma vez\")\n",
        "        x=x+1\n",
        "\n",
        "\n",
        "    opt= int(input(\"Tente adivinhar o número secreto de 1 a 100: \"))\n",
        "\n",
        "\n",
        "    if opt==secreto:\n",
        "        print(\"Parabéns , você acertou o número.\")"
      ],
      "metadata": {
        "colab": {
          "base_uri": "https://localhost:8080/"
        },
        "id": "V1QLjNQYkAmO",
        "outputId": "546729f5-3138-4f00-deb9-49ce9b9a2e2c"
      },
      "execution_count": null,
      "outputs": [
        {
          "output_type": "stream",
          "name": "stdout",
          "text": [
            "34\n"
          ]
        }
      ]
    },
    {
      "cell_type": "code",
      "source": [
        "total=0\n",
        "cont= input(\"Deseja pagar? \")\n",
        "\n",
        "while cont == \"sim\":\n",
        "    quant = int(input(\"Digite a quantidade do produto escolhido: \"))\n",
        "    preco = float(input(\"Digite o preço desse produto: \"))\n",
        "\n",
        "    total += quant*preco\n",
        "    print(total)\n",
        "\n",
        "    cont= input(\"Deseja continuar ? \")\n",
        "\n",
        "\n",
        "    if cont != \"sim\":\n",
        "        continue\n",
        "\n",
        "if cont == \"não\":\n",
        "    print(\"Digite: 1- A vista  2- Parcelado ,  para decidir a forma de pagamento\")\n",
        "    pag= int(input(\"Digite sua escolha:\"))\n",
        "\n",
        "if pag==1:\n",
        "    print(\"Você escolheu a opção a vista\")\n",
        "\n",
        "    desconto = total*0.05\n",
        "    val= total-desconto\n",
        "    print(\"O desconto foi de \", desconto,\"e o valor total é de \",val, \"reais\")\n",
        "\n",
        "elif pag==2:\n",
        "    print(\"Você escolheu pagar parcelado.\")\n",
        "    val=total/3\n",
        "\n",
        "    print(\"O valor total da compra é\", total ,\"você terá que pagar \",val,\"por mês.\")\n",
        "\n",
        "else:\n",
        "    print(\"Você não escoheu nenhuma opção de pagamento dada, escolha novamente\")\n",
        "    print(\"Digite: 1- A vista  2- Parcelado ,  para decidir a forma de pagamento\")\n",
        "    pag= int(input(\"Digite sua escolha:\"))\n",
        "\n",
        "\n"
      ],
      "metadata": {
        "colab": {
          "base_uri": "https://localhost:8080/"
        },
        "id": "Hq1dFJgpZQKF",
        "outputId": "949c2833-b47e-4346-f450-7a7dd62cc78b"
      },
      "execution_count": null,
      "outputs": [
        {
          "output_type": "stream",
          "name": "stdout",
          "text": [
            "Deseja pagar? sim\n",
            "Digite a quantidade do produto escolhido: 23\n",
            "Digite o preço desse produto: 23\n",
            "529.0\n",
            "Deseja continuar ? sim\n",
            "Digite a quantidade do produto escolhido: 23\n",
            "Digite o preço desse produto: 23\n",
            "1058.0\n",
            "Deseja continuar ? não\n",
            "Digite: 1- A vista  2- Parcelado ,  para decidir a forma de pagamento\n",
            "Digite sua escolha:2\n",
            "Você escolheu pagar parcelado.\n",
            "O valor total da compra é 1058.0 você terá que pagar  352.6666666666667 por mês.\n"
          ]
        }
      ]
    }
  ]
}